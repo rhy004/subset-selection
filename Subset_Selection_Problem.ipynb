{
  "nbformat": 4,
  "nbformat_minor": 0,
  "metadata": {
    "colab": {
      "provenance": [],
      "include_colab_link": true
    },
    "kernelspec": {
      "display_name": "Python 3",
      "language": "python",
      "name": "python3"
    },
    "language_info": {
      "codemirror_mode": {
        "name": "ipython",
        "version": 3
      },
      "file_extension": ".py",
      "mimetype": "text/x-python",
      "name": "python",
      "nbconvert_exporter": "python",
      "pygments_lexer": "ipython3",
      "version": "3.8.5"
    }
  },
  "cells": [
    {
      "cell_type": "markdown",
      "metadata": {
        "id": "view-in-github",
        "colab_type": "text"
      },
      "source": [
        "<a href=\"https://colab.research.google.com/github/rhy004/subset-selection/blob/main/Subset_Selection_Problem.ipynb\" target=\"_parent\"><img src=\"https://colab.research.google.com/assets/colab-badge.svg\" alt=\"Open In Colab\"/></a>"
      ]
    },
    {
      "cell_type": "markdown",
      "metadata": {
        "id": "7nQSRI4Dim1Y"
      },
      "source": [
        "  ---\n",
        "# **Subset Selection Problem**\n",
        "---\n",
        "####**1. Problem Statement:**\n",
        "Find all the subsets from a set of numbers whose sum is zero.\n",
        "\n",
        "####**Constraint: Subset size must be 5**\n",
        "Set={-12, -3, -6, 7, 2, -2, 6, 3, 9, -7, -5, -8, 1, 11, -9, -4}\n",
        "\n",
        "---"
      ]
    },
    {
      "cell_type": "markdown",
      "metadata": {
        "id": "A30y-VtNim1h"
      },
      "source": [
        "### **1.1 Library inclusion**"
      ]
    },
    {
      "cell_type": "code",
      "metadata": {
        "id": "cF_mSA9Xim1j"
      },
      "source": [
        "import random as r"
      ],
      "execution_count": 1,
      "outputs": []
    },
    {
      "cell_type": "markdown",
      "metadata": {
        "id": "UjvBYy0Lim1m"
      },
      "source": [
        "### **1.2 Parameter Setting**"
      ]
    },
    {
      "cell_type": "code",
      "metadata": {
        "id": "NHB2KMhZim1o"
      },
      "source": [
        "Set         = set([-12, -3, -6, 7, 2, -2, 6, 3, 9, -7, -5, -8, 1, 11, -9, -4])\n",
        "SetSize     = 5\n",
        "ResultList  = set()    # Store Result List i.e. list of sets whose sum is zero\n",
        "Iterations  = 1000    # Number of Inerations"
      ],
      "execution_count": 2,
      "outputs": []
    },
    {
      "cell_type": "markdown",
      "metadata": {
        "id": "BTLd3s--im1c"
      },
      "source": [
        "### **1.3 Start Program**\n",
        "\n",
        "\n"
      ]
    },
    {
      "cell_type": "code",
      "metadata": {
        "id": "veBU-f21im1x",
        "colab": {
          "base_uri": "https://localhost:8080/"
        },
        "outputId": "ac854f78-9200-42a6-e3b3-2c68daaef39e"
      },
      "source": [
        "# Loop till number of Iterations\n",
        "for i in range(Iterations):\n",
        "    # Select number of elements from Set\n",
        "    Chromosome = r.sample(Set,SetSize)\n",
        "    \n",
        "    # Sum the number of elements in the Chromosome\n",
        "    if sum(Chromosome) == 0:\n",
        "        ResultList.add(tuple(Chromosome))"
      ],
      "execution_count": 3,
      "outputs": [
        {
          "output_type": "stream",
          "name": "stderr",
          "text": [
            "<ipython-input-3-03544d6be9f3>:4: DeprecationWarning: Sampling from a set deprecated\n",
            "since Python 3.9 and will be removed in a subsequent version.\n",
            "  Chromosome = r.sample(Set,SetSize)\n"
          ]
        }
      ]
    },
    {
      "cell_type": "markdown",
      "metadata": {
        "id": "nRWYsJNVim1z"
      },
      "source": [
        "### **1.4 Print the sets and total count**\n"
      ]
    },
    {
      "cell_type": "code",
      "metadata": {
        "colab": {
          "base_uri": "https://localhost:8080/"
        },
        "id": "41abL1k-im10",
        "scrolled": true,
        "outputId": "16120e4b-38bd-432d-d72c-40d4f5ce1c35"
      },
      "source": [
        "# Print all the sets whose sum is zero\n",
        "for r in ResultList:\n",
        "\tprint (r)\n",
        "\n",
        "# Print total sets\n",
        "print (\"\\nTotal Sets: \", len(ResultList), \"\\n\")"
      ],
      "execution_count": 4,
      "outputs": [
        {
          "output_type": "stream",
          "name": "stdout",
          "text": [
            "(3, -9, 6, 2, -2)\n",
            "(-12, 3, -8, 6, 11)\n",
            "(1, -6, 3, -4, 6)\n",
            "(-4, 3, 9, 1, -9)\n",
            "(-2, 1, 9, -5, -3)\n",
            "(-12, -7, 7, 1, 11)\n",
            "(-9, 6, 2, -2, 3)\n",
            "(-2, -12, 3, 9, 2)\n",
            "(-8, 9, -9, 6, 2)\n",
            "(1, 3, -12, 11, -3)\n",
            "(11, 6, -8, -2, -7)\n",
            "(-4, 9, 1, 6, -12)\n",
            "(1, 7, -12, -5, 9)\n",
            "(7, 2, -8, 11, -12)\n",
            "(-8, 11, -2, 6, -7)\n",
            "(6, -7, -5, -3, 9)\n",
            "(3, 2, -3, -9, 7)\n",
            "(-5, 2, -7, 9, 1)\n",
            "(-4, 9, -3, 7, -9)\n",
            "(-2, -7, 11, -9, 7)\n",
            "(-6, 2, 1, 6, -3)\n",
            "(3, 6, 2, -6, -5)\n",
            "(7, -2, 6, -12, 1)\n",
            "(-6, -2, 11, 1, -4)\n",
            "(1, 6, -2, -12, 7)\n",
            "(-8, -3, 2, 3, 6)\n",
            "(2, 9, -5, 6, -12)\n",
            "(1, -2, 3, 7, -9)\n",
            "\n",
            "Total Sets:  28 \n",
            "\n"
          ]
        }
      ]
    },
    {
      "cell_type": "markdown",
      "metadata": {
        "id": "E3BNV7YLim12"
      },
      "source": [
        "---\n",
        "### **1.5 Complete Program**\n",
        "---"
      ]
    },
    {
      "cell_type": "code",
      "metadata": {
        "colab": {
          "base_uri": "https://localhost:8080/"
        },
        "id": "c6KthRB9im14",
        "outputId": "f7eff6c4-9e26-499c-de71-7bcaa1208e53"
      },
      "source": [
        "#-------------------------------------------------------------\n",
        "# Step 1: Library inclusion                             \n",
        "#-------------------------------------------------------------                      \n",
        "import random as r\n",
        "\n",
        "\n",
        "#-------------------------------------------------------------\n",
        "# Step 2: Parameter Setting\n",
        "#-------------------------------------------------------------\n",
        "Set         = set([-12, -3, -6, 7, 2, -2, 6, 3, 9, -7, -5, -8, 1, 11, -9, -4])  \n",
        "SetSize     = 5\n",
        "ResultList  = set()    # Store Result List i.e. list of sets whose sum is zero\n",
        "Iterations  = 1000   # Number of Inerations\n",
        "\n",
        "\n",
        "#-------------------------------------------------------------\n",
        "# Step3: Start Program\n",
        "#-------------------------------------------------------------\n",
        "\n",
        "# Loop till number of Iterations\n",
        "for i in range(Iterations):\n",
        "    # Select number of elements from Set\n",
        "    Chromosome = r.sample(Set,SetSize)\n",
        "\n",
        "    # Sum the number of elements in the Chromosome\n",
        "    if sum(Chromosome) == 0:\n",
        "        ResultList.add(tuple(Chromosome))\n",
        "\n",
        "# Print all the sets whose sum is zero\n",
        "for r in ResultList:\n",
        "\tprint (r)\n",
        "\n",
        "# Print total sets\n",
        "print (\"\\nTotal Sets: \", len(ResultList))\n"
      ],
      "execution_count": 5,
      "outputs": [
        {
          "output_type": "stream",
          "name": "stdout",
          "text": [
            "(-9, -12, 3, 7, 11)\n",
            "(-12, 1, 2, 6, 3)\n",
            "(-5, -7, 9, 2, 1)\n",
            "(-7, -8, 9, -5, 11)\n",
            "(9, 7, -6, -12, 2)\n",
            "(-9, 9, -12, 11, 1)\n",
            "(11, 2, -4, -2, -7)\n",
            "(2, -12, -5, 6, 9)\n",
            "(6, 2, -9, 7, -6)\n",
            "(6, -6, 2, -3, 1)\n",
            "(11, -7, -6, -5, 7)\n",
            "(-4, -12, 6, 9, 1)\n",
            "(-4, 9, 6, -8, -3)\n",
            "(-3, 1, -5, -4, 11)\n",
            "(7, 1, 6, -9, -5)\n",
            "(3, 7, 2, -4, -8)\n",
            "(6, -8, -2, 1, 3)\n",
            "(-7, -2, 11, 2, -4)\n",
            "(-6, -2, 11, -12, 9)\n",
            "(-6, 1, 3, -5, 7)\n",
            "(3, -4, 11, -2, -8)\n",
            "(-12, 11, 7, -4, -2)\n",
            "(6, -7, -2, -6, 9)\n",
            "(-6, -9, 11, 3, 1)\n",
            "(-8, 2, 1, 9, -4)\n",
            "(-2, 6, 11, -6, -9)\n",
            "(-12, 2, 6, 9, -5)\n",
            "(11, 3, 1, -7, -8)\n",
            "(-12, 2, 9, 6, -5)\n",
            "\n",
            "Total Sets:  29\n"
          ]
        },
        {
          "output_type": "stream",
          "name": "stderr",
          "text": [
            "<ipython-input-5-863105f7322f>:23: DeprecationWarning: Sampling from a set deprecated\n",
            "since Python 3.9 and will be removed in a subsequent version.\n",
            "  Chromosome = r.sample(Set,SetSize)\n"
          ]
        }
      ]
    },
    {
      "cell_type": "markdown",
      "metadata": {
        "id": "stxrIcZtk4LT"
      },
      "source": [
        "---\n",
        "### **1.6 Complete Program with sorting**\n",
        "---"
      ]
    },
    {
      "cell_type": "code",
      "metadata": {
        "colab": {
          "base_uri": "https://localhost:8080/"
        },
        "outputId": "3b5276b5-c3ce-4be6-ba07-46ba5e15b5b4",
        "id": "zzblepy0k4LU"
      },
      "source": [
        "#-------------------------------------------------------------\n",
        "# Step 1: Library inclusion                             \n",
        "#-------------------------------------------------------------\n",
        "import random as r\n",
        "\n",
        "\n",
        "#-------------------------------------------------------------\n",
        "# Step 2: Parameter Setting\n",
        "#-------------------------------------------------------------\n",
        "Set         = set([-12, -3, -6, 7, 2, -2, 6, 3, 9, -7, -5, -8, 1, 11, -9, -4])\n",
        "SetSize     = 5\n",
        "ResultList  = set()    # Store Result List i.e. list of sets whose sum is zero\n",
        "Iterations  = 1000   # Number of Inerations\n",
        "\n",
        "\n",
        "#-------------------------------------------------------------\n",
        "# Step3: Start Program\n",
        "#-------------------------------------------------------------\n",
        "\n",
        "# Loop till number of Iterations\n",
        "for i in range(Iterations):\n",
        "    # Select number of elements from Set\n",
        "    Chromosome = r.sample(Set,SetSize)\n",
        "    Chromosome.sort()\n",
        "\n",
        "    # Sum the number of elements in the Chromosome\n",
        "    if sum(Chromosome) == 0:\n",
        "        ResultList.add(tuple(Chromosome))\n",
        "\n",
        "# Print all the sets whose sum is zero\n",
        "for r in ResultList:\n",
        "\tprint (r)\n",
        "\n",
        "# Print total sets\n",
        "print (\"\\nTotal Sets: \", len(ResultList))\n"
      ],
      "execution_count": 6,
      "outputs": [
        {
          "output_type": "stream",
          "name": "stdout",
          "text": [
            "(-12, -6, -2, 9, 11)\n",
            "(-7, -4, -3, 3, 11)\n",
            "(-12, -3, -2, 6, 11)\n",
            "(-7, -4, 1, 3, 7)\n",
            "(-12, -4, 2, 3, 11)\n",
            "(-8, -3, 1, 3, 7)\n",
            "(-5, -3, -2, 3, 7)\n",
            "(-9, -6, -3, 7, 11)\n",
            "(-8, -6, -3, 6, 11)\n",
            "(-12, -2, 2, 3, 9)\n",
            "(-8, -4, -2, 3, 11)\n",
            "(-9, -6, -5, 9, 11)\n",
            "(-8, -2, 1, 2, 7)\n",
            "(-8, -5, 1, 3, 9)\n",
            "(-12, -5, 2, 6, 9)\n",
            "(-9, -7, 1, 6, 9)\n",
            "(-5, -4, -3, 3, 9)\n",
            "(-8, -7, -2, 6, 11)\n",
            "(-6, -4, -2, 1, 11)\n",
            "(-12, -9, 3, 7, 11)\n",
            "(-12, -4, -2, 7, 11)\n",
            "\n",
            "Total Sets:  21\n"
          ]
        },
        {
          "output_type": "stream",
          "name": "stderr",
          "text": [
            "<ipython-input-6-91cb451df7bd>:23: DeprecationWarning: Sampling from a set deprecated\n",
            "since Python 3.9 and will be removed in a subsequent version.\n",
            "  Chromosome = r.sample(Set,SetSize)\n"
          ]
        }
      ]
    },
    {
      "cell_type": "markdown",
      "metadata": {
        "id": "Kaevs6ROim18"
      },
      "source": [
        "---\n",
        "####**2. Problem Statement:**\n",
        "Find all the subsets from a set of numbers whose sum is zero.\n",
        "\n",
        "####**Constraint: Subset size must be 3 to 6 only**\n",
        "Set={-12, -3, -6, 7, 2, -2, 6, 3, 9, -7, -5, -8, 1, 11, -9, -4}\n",
        "\n",
        "---"
      ]
    },
    {
      "cell_type": "code",
      "metadata": {
        "colab": {
          "base_uri": "https://localhost:8080/"
        },
        "id": "XmPJbrOXim19",
        "outputId": "b0acb32c-02be-466f-ac9a-8d67b5f19b1e"
      },
      "source": [
        "#-------------------------------------------------------------\n",
        "# Step 1: Library inclusion                             \n",
        "#-------------------------------------------------------------\n",
        "import random as r\n",
        "\n",
        "\n",
        "#-------------------------------------------------------------\n",
        "# Step 2: Parameter Setting\n",
        "#-------------------------------------------------------------\n",
        "Set         = set([-12, -3, -6, 7, 2, -2, 6, 3, 9, -7, -5, -8, 1, 11, -9, -4])\n",
        "SetLB       = 3\n",
        "SetUB       = 6\n",
        "ResultList  = set()    # Store Result List i.e. list of sets whose sum is zero\n",
        "Iterations  = 1000   # Number of Inerations\n",
        "\n",
        "\n",
        "#-------------------------------------------------------------\n",
        "# Step3: Start Program\n",
        "#-------------------------------------------------------------\n",
        "\n",
        "# Loop till number of Iterations\n",
        "for i in range(Iterations):\n",
        "    # Select set size randomly\n",
        "    SetSize = r.randint(SetLB,SetUB)\n",
        "\t\n",
        "    # Select number of elements from Set\n",
        "    Chromosome = r.sample(Set,SetSize)\n",
        "    Chromosome.sort()\n",
        "\n",
        "    # Sum the number of elements in the Chromosome\n",
        "    if sum(Chromosome) == 0:\n",
        "        ResultList.add(tuple(Chromosome))\n",
        "\n",
        "# Print all the sets whose sum is zero\n",
        "for r in ResultList:\n",
        "\tprint (r)\n",
        "\n",
        "# Print total sets\n",
        "print (\"\\nTotal Sets: \", len(ResultList))\n"
      ],
      "execution_count": 7,
      "outputs": [
        {
          "output_type": "stream",
          "name": "stdout",
          "text": [
            "(-12, -6, 3, 6, 9)\n",
            "(-8, -5, -4, 6, 11)\n",
            "(-6, -4, -3, 6, 7)\n",
            "(-8, -4, -2, 2, 3, 9)\n",
            "(-5, -3, 2, 6)\n",
            "(-8, -5, -4, -3, 9, 11)\n",
            "(-4, 1, 3)\n",
            "(-9, -4, -3, 7, 9)\n",
            "(-7, -2, 9)\n",
            "(-12, 1, 11)\n",
            "(-8, -6, -5, 2, 6, 11)\n",
            "(-7, -2, 1, 2, 6)\n",
            "(-5, -2, 1, 6)\n",
            "(-6, -4, 1, 9)\n",
            "(-7, -4, 11)\n",
            "(-6, -5, -4, -3, 7, 11)\n",
            "(-4, -2, 6)\n",
            "(-9, -8, -7, 6, 7, 11)\n",
            "(-9, -5, 1, 6, 7)\n",
            "(-9, -7, 1, 6, 9)\n",
            "(-12, -5, -3, 9, 11)\n",
            "(-8, -7, 6, 9)\n",
            "(-9, -8, 6, 11)\n",
            "(-8, -7, -3, 3, 6, 9)\n",
            "(-8, -3, 2, 3, 6)\n",
            "(-4, -3, 7)\n",
            "(-12, -8, 2, 7, 11)\n",
            "(-8, -6, -3, 1, 7, 9)\n",
            "(-7, -2, 2, 7)\n",
            "(-12, -8, 9, 11)\n",
            "(-5, -4, 9)\n",
            "\n",
            "Total Sets:  31\n"
          ]
        },
        {
          "output_type": "stream",
          "name": "stderr",
          "text": [
            "<ipython-input-7-8bdee75e019c>:27: DeprecationWarning: Sampling from a set deprecated\n",
            "since Python 3.9 and will be removed in a subsequent version.\n",
            "  Chromosome = r.sample(Set,SetSize)\n"
          ]
        }
      ]
    }
  ]
}